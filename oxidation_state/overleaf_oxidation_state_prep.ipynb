{
 "cells": [
  {
   "cell_type": "code",
   "execution_count": null,
   "id": "37b230a5-c884-48a2-921c-56dd22bfe761",
   "metadata": {
    "scrolled": true
   },
   "outputs": [],
   "source": [
    "import pandas as pd\n",
    "from mp_api.client import MPRester\n",
    "\n",
    "API_KEY = \"dnq07hvQEKLgvwySSmAi4QGzItrjZKpg\"  \n",
    "mpr = MPRester(API_KEY)\n",
    "df=pd.read_csv('mp_all_v4.csv')\n",
    "df=df[df['polymorphs']==1]\n",
    "mp_ids=[i.split('/')[1].split('.')[0] for i in df['mp_id'].tolist()]\n",
    "docs=[]\n",
    "fail=[]\n",
    "for i in mp_ids:\n",
    "    try:\n",
    "       docs.append(mpr.thermo.search(material_ids=[i]))\n",
    "    except:\n",
    "        fail.append(i)\n",
    "        print('failed:',i)"
   ]
  },
  {
   "cell_type": "code",
   "execution_count": null,
   "id": "0b2de119-34b9-42e9-a64b-760647d8f87f",
   "metadata": {},
   "outputs": [],
   "source": [
    "thermo_docs[0].entries['GGA'].data.get('oxidation_states')"
   ]
  },
  {
   "cell_type": "code",
   "execution_count": null,
   "id": "857f4d64-90e6-4a93-950e-cba4d4379ddf",
   "metadata": {},
   "outputs": [],
   "source": [
    "import pandas as pd\n",
    "from mp_api.client import MPRester\n",
    "\n",
    "API_KEY = \"dnq07hvQEKLgvwySSmAi4QGzItrjZKpg\"\n",
    "mpr = MPRester(API_KEY)\n",
    "\n",
    "# Load and filter CSV\n",
    "df = pd.read_csv('mp_all_v4.csv')\n",
    "df = df[df['polymorphs'] == 1]\n",
    "print(\"Filtered shape:\", df.shape)\n",
    "\n",
    "# Extract mp-IDs cleanly\n",
    "mp_ids = [i.split('/')[1].split('.')[0] for i in df['mp_id'].tolist()]\n",
    "\n",
    "# Store oxidation states\n",
    "results = []\n",
    "fail = []\n",
    "\n",
    "for i in mp_ids:\n",
    "    try:\n",
    "        doc = mpr.thermo.search(material_ids=[i])\n",
    "        if not doc:\n",
    "            fail.append(i)\n",
    "            print(f\"No data for: {i}\")\n",
    "            continue\n",
    "\n",
    "        entry_types = list(doc[0].entries.keys())\n",
    "        entry_type = entry_types[0]  # \"GGA\" or \"GGA+U\" etc.\n",
    "        oxi = doc[0].entries[entry_type].data.get(\"oxidation_states\", {})\n",
    "\n",
    "        results.append({\n",
    "            \"mp_id\": i,\n",
    "            \"oxidation_states\": oxi,\n",
    "            \"entry_type\": entry_type\n",
    "        })\n",
    "\n",
    "    except Exception as e:\n",
    "        print(f\"Failed for {i}: {e}\")\n",
    "        fail.append(i)\n",
    "\n",
    "# Convert to DataFrame\n",
    "oxi_df = pd.DataFrame(results)\n",
    "oxi_df.to_csv(\"mp_oxidation_states.csv\", index=False)\n",
    "print(\"Saved oxidation states to mp_oxidation_states.csv\")\n"
   ]
  },
  {
   "cell_type": "code",
   "execution_count": null,
   "id": "e8f7ca47-15ba-4169-872c-42e7adcb905a",
   "metadata": {},
   "outputs": [],
   "source": [
    "import pandas as pd\n",
    "df=pd.read_csv(\"mp_oxidation_states.csv\")\n",
    "df"
   ]
  },
  {
   "cell_type": "code",
   "execution_count": null,
   "id": "316efb8e-c362-40ba-891a-99117c1eb3c2",
   "metadata": {},
   "outputs": [],
   "source": [
    "df2=pd.read_csv('mp_all_v4.csv')\n",
    "df['mp_id']=df['mp_id'].apply(lambda x:'cifs/'+x+'.cif')\n",
    "dicn={}\n",
    "for i,j in zip(df['mp_id'].tolist(),df['oxidation_states'].tolist()):\n",
    "    dicn[i]=j\n",
    "oxis=[]\n",
    "for i in df2['mp_id'].tolist():\n",
    "    try:\n",
    "        \n",
    "        oxis.append(dicn[i])\n",
    "    except:\n",
    "        oxis.append({})\n",
    "df2['ox_state']=oxis\n",
    "df2.to_csv('mp_all_v4.csv',index=False)"
   ]
  },
  {
   "cell_type": "code",
   "execution_count": null,
   "id": "bd5db03a-2eba-45cf-83ae-b5bde0f36f28",
   "metadata": {},
   "outputs": [],
   "source": []
  }
 ],
 "metadata": {
  "kernelspec": {
   "display_name": "sdey",
   "language": "python",
   "name": "sdey"
  },
  "language_info": {
   "codemirror_mode": {
    "name": "ipython",
    "version": 3
   },
   "file_extension": ".py",
   "mimetype": "text/x-python",
   "name": "python",
   "nbconvert_exporter": "python",
   "pygments_lexer": "ipython3",
   "version": "3.12.7"
  }
 },
 "nbformat": 4,
 "nbformat_minor": 5
}
