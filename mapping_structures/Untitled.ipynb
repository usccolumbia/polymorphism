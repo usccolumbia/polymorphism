{
 "cells": [
  {
   "cell_type": "code",
   "execution_count": 5,
   "id": "0bd469b3-b0f4-4788-9e00-67343108c405",
   "metadata": {},
   "outputs": [
    {
     "name": "stderr",
     "output_type": "stream",
     "text": [
      "C:\\Users\\moons\\AppData\\Local\\Temp\\ipykernel_10016\\2471772520.py:11: DeprecationWarning: Accessing thermo data through MPRester.thermo is deprecated. Please use MPRester.materials.thermo instead.\n",
      "  thermo_docs = mpr.thermo.search(material_ids=mp_ids)\n"
     ]
    },
    {
     "ename": "ValueError",
     "evalue": "cifs/mp-1232268.cif is not formatted correctly!",
     "output_type": "error",
     "traceback": [
      "\u001b[1;31m---------------------------------------------------------------------------\u001b[0m",
      "\u001b[1;31mValueError\u001b[0m                                Traceback (most recent call last)",
      "Cell \u001b[1;32mIn[5], line 11\u001b[0m\n\u001b[0;32m      4\u001b[0m mpr \u001b[38;5;241m=\u001b[39m MPRester(API_KEY)\n\u001b[0;32m      6\u001b[0m mp_ids \u001b[38;5;241m=\u001b[39m [\u001b[38;5;124m'\u001b[39m\u001b[38;5;124mcifs/mp-1232268.cif\u001b[39m\u001b[38;5;124m'\u001b[39m,\n\u001b[0;32m      7\u001b[0m  \u001b[38;5;124m'\u001b[39m\u001b[38;5;124mcifs/mp-1078247.cif\u001b[39m\u001b[38;5;124m'\u001b[39m,\n\u001b[0;32m      8\u001b[0m  \u001b[38;5;124m'\u001b[39m\u001b[38;5;124mcifs/mp-1217360.cif\u001b[39m\u001b[38;5;124m'\u001b[39m,\n\u001b[0;32m      9\u001b[0m  \u001b[38;5;124m'\u001b[39m\u001b[38;5;124mcifs/mp-1003311.cif\u001b[39m\u001b[38;5;124m'\u001b[39m,\n\u001b[0;32m     10\u001b[0m  \u001b[38;5;124m'\u001b[39m\u001b[38;5;124mcifs/mp-1238847.cif\u001b[39m\u001b[38;5;124m'\u001b[39m]\n\u001b[1;32m---> 11\u001b[0m thermo_docs \u001b[38;5;241m=\u001b[39m mpr\u001b[38;5;241m.\u001b[39mthermo\u001b[38;5;241m.\u001b[39msearch(material_ids\u001b[38;5;241m=\u001b[39mmp_ids)\n\u001b[0;32m     13\u001b[0m \u001b[38;5;28;01mfor\u001b[39;00m doc \u001b[38;5;129;01min\u001b[39;00m thermo_docs:\n\u001b[0;32m     14\u001b[0m     \u001b[38;5;28mprint\u001b[39m(\u001b[38;5;241m1\u001b[39m)\n",
      "File \u001b[1;32m~\\anaconda3\\Lib\\site-packages\\mp_api\\client\\routes\\materials\\thermo.py:90\u001b[0m, in \u001b[0;36mThermoRester.search\u001b[1;34m(self, material_ids, chemsys, energy_above_hull, equilibrium_reaction_energy, formation_energy, formula, is_stable, num_elements, thermo_ids, thermo_types, total_energy, uncorrected_energy, num_chunks, chunk_size, all_fields, fields)\u001b[0m\n\u001b[0;32m     87\u001b[0m     \u001b[38;5;28;01mif\u001b[39;00m \u001b[38;5;28misinstance\u001b[39m(material_ids, \u001b[38;5;28mstr\u001b[39m):\n\u001b[0;32m     88\u001b[0m         material_ids \u001b[38;5;241m=\u001b[39m [material_ids]\n\u001b[1;32m---> 90\u001b[0m     query_params\u001b[38;5;241m.\u001b[39mupdate({\u001b[38;5;124m\"\u001b[39m\u001b[38;5;124mmaterial_ids\u001b[39m\u001b[38;5;124m\"\u001b[39m: \u001b[38;5;124m\"\u001b[39m\u001b[38;5;124m,\u001b[39m\u001b[38;5;124m\"\u001b[39m\u001b[38;5;241m.\u001b[39mjoin(validate_ids(material_ids))})\n\u001b[0;32m     92\u001b[0m \u001b[38;5;28;01mif\u001b[39;00m thermo_ids:\n\u001b[0;32m     93\u001b[0m     query_params\u001b[38;5;241m.\u001b[39mupdate({\u001b[38;5;124m\"\u001b[39m\u001b[38;5;124mthermo_ids\u001b[39m\u001b[38;5;124m\"\u001b[39m: \u001b[38;5;124m\"\u001b[39m\u001b[38;5;124m,\u001b[39m\u001b[38;5;124m\"\u001b[39m\u001b[38;5;241m.\u001b[39mjoin(validate_ids(thermo_ids))})\n",
      "File \u001b[1;32m~\\anaconda3\\Lib\\site-packages\\mp_api\\client\\core\\utils.py:38\u001b[0m, in \u001b[0;36mvalidate_ids\u001b[1;34m(id_list)\u001b[0m\n\u001b[0;32m     36\u001b[0m \u001b[38;5;28;01mfor\u001b[39;00m entry \u001b[38;5;129;01min\u001b[39;00m id_list:\n\u001b[0;32m     37\u001b[0m     \u001b[38;5;28;01mif\u001b[39;00m re\u001b[38;5;241m.\u001b[39mmatch(pattern, entry) \u001b[38;5;129;01mis\u001b[39;00m \u001b[38;5;28;01mNone\u001b[39;00m:\n\u001b[1;32m---> 38\u001b[0m         \u001b[38;5;28;01mraise\u001b[39;00m \u001b[38;5;167;01mValueError\u001b[39;00m(\u001b[38;5;124mf\u001b[39m\u001b[38;5;124m\"\u001b[39m\u001b[38;5;132;01m{\u001b[39;00mentry\u001b[38;5;132;01m}\u001b[39;00m\u001b[38;5;124m is not formatted correctly!\u001b[39m\u001b[38;5;124m\"\u001b[39m)\n\u001b[0;32m     40\u001b[0m \u001b[38;5;28;01mreturn\u001b[39;00m id_list\n",
      "\u001b[1;31mValueError\u001b[0m: cifs/mp-1232268.cif is not formatted correctly!"
     ]
    }
   ],
   "source": [
    "from mp_api.client import MPRester\n",
    "\n",
    "API_KEY = \"dnq07hvQEKLgvwySSmAi4QGzItrjZKpg\"  \n",
    "mpr = MPRester(API_KEY)\n",
    "\n",
    "mp_ids = ['cifs/mp-1232268.cif',\n",
    " 'cifs/mp-1078247.cif',\n",
    " 'cifs/mp-1217360.cif',\n",
    " 'cifs/mp-1003311.cif',\n",
    " 'cifs/mp-1238847.cif']\n",
    "\n",
    "thermo_docs = mpr.thermo.search(material_ids=mp_ids)\n",
    "\n",
    "for doc in thermo_docs:\n",
    "    print(1)\n",
    "    print(f\"Formation energy per atom for {doc.material_id}: {doc.formation_energy_per_atom} eV per atom\")"
   ]
  },
  {
   "cell_type": "code",
   "execution_count": null,
   "id": "c9a6b755-e19c-4140-8269-bdd11655c841",
   "metadata": {},
   "outputs": [],
   "source": [
    "# print(\"Formation energy per atom for {doc.material_id}: {doc.formation_energy_per_atom} eV per atom\")"
   ]
  }
 ],
 "metadata": {
  "kernelspec": {
   "display_name": "sdey",
   "language": "python",
   "name": "sdey"
  },
  "language_info": {
   "codemirror_mode": {
    "name": "ipython",
    "version": 3
   },
   "file_extension": ".py",
   "mimetype": "text/x-python",
   "name": "python",
   "nbconvert_exporter": "python",
   "pygments_lexer": "ipython3",
   "version": "3.12.7"
  }
 },
 "nbformat": 4,
 "nbformat_minor": 5
}
