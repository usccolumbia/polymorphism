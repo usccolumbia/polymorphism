{
 "cells": [
  {
   "cell_type": "markdown",
   "id": "04c84621-bf35-4d9d-bf27-418cd5c30f36",
   "metadata": {},
   "source": [
    "**Insert cif file paths at line 16 of view_polyhedra.py**"
   ]
  },
  {
   "cell_type": "code",
   "execution_count": null,
   "id": "09e50954-bdc8-48ac-a9f4-c204036fc28c",
   "metadata": {},
   "outputs": [],
   "source": [
    "\n",
    "from view_polyhedra import count_and_visualize_polyhedra_interactive\n",
    "from draw_graphs import remove_overlapping_polyhedra,get_polyhedron_sharing_pairs_verbose,draw_polyhedron_sharing_graph"
   ]
  },
  {
   "cell_type": "code",
   "execution_count": null,
   "id": "189b0a59-0de3-4e20-b151-db65a50fef18",
   "metadata": {},
   "outputs": [],
   "source": [
    "**if two polyhedra are very close i.e. two sites are within less than 1.5 A cutoff, then the one with\n",
    "higher angular distortion is removed. This does not impact face/edge sharing polyhedra**"
   ]
  },
  {
   "cell_type": "code",
   "execution_count": null,
   "id": "085a61bd-fbb5-4491-9d5c-c9f7b3f06eb4",
   "metadata": {},
   "outputs": [],
   "source": [
    "import pandas as pd\n",
    "import matplotlib.pyplot as plt\n",
    "import numpy as np\n",
    "\n",
    "# Load\n",
    "df = pd.read_csv('../dataset/mp_all_v4.csv')\n",
    "df = df[df['polymorphs'] == 1]\n",
    "\n",
    "# List of formulas\n",
    "target_formulas = df['reduced_formula'].tolist() \n",
    "# Filter for these formulas\n",
    "df3 = df[df['reduced_formula'].isin(target_formulas)]\n",
    "ids = df3['mp_id'].tolist()\n",
    "print(f\"Found {len(ids)} total structures across selected formulas.\")\n",
    "\n",
    "# Store all polyhedra from all polymorphs\n",
    "all_polyhedra = []\n",
    "new={}\n",
    "for i, mp_id in enumerate(ids):\n",
    "    # print(f\"[{i+1}/{len(ids)}] Processing structure: {mp_id}\")\n",
    "    try:\n",
    "        x, y, z = count_and_visualize_polyhedra_interactive(mp_id, save_html=False, save_png=False, open_browser=False)\n",
    "\n",
    "        z, removed_indices = remove_overlapping_polyhedra(z)\n",
    "\n",
    "        face_tri_pairs, face_quad,edge_pairs,point_pairs = get_polyhedron_sharing_pairs_verbose(z)\n",
    "        graph=draw_polyhedron_sharing_graph(face_tri_pairs,face_quad, edge_pairs,point_pairs)\n",
    "        new[mp_id]=graph\n",
    "    except Exception as e:\n",
    "        print(f\"  ✗ Failed on {mp_id}: {e}\")"
   ]
  },
  {
   "cell_type": "code",
   "execution_count": 14,
   "id": "30647461-97a0-4a97-b704-46e2ed686bf0",
   "metadata": {},
   "outputs": [],
   "source": [
    "\n",
    "import pickle\n",
    "\n",
    "with open('polyhedron_graphs3.pkl', 'wb') as f:\n",
    "    pickle.dump(new, f)\n"
   ]
  },
  {
   "cell_type": "code",
   "execution_count": 17,
   "id": "dbc62ec5-c40c-462c-942f-04716f3c0e07",
   "metadata": {},
   "outputs": [],
   "source": []
  }
 ],
 "metadata": {
  "kernelspec": {
   "display_name": "sdey",
   "language": "python",
   "name": "sdey"
  },
  "language_info": {
   "codemirror_mode": {
    "name": "ipython",
    "version": 3
   },
   "file_extension": ".py",
   "mimetype": "text/x-python",
   "name": "python",
   "nbconvert_exporter": "python",
   "pygments_lexer": "ipython3",
   "version": "3.12.7"
  }
 },
 "nbformat": 4,
 "nbformat_minor": 5
}
