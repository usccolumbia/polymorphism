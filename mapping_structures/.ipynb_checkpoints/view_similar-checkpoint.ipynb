{
 "cells": [
  {
   "cell_type": "markdown",
   "id": "d9a6b050",
   "metadata": {},
   "source": [
    "## Suppose at step2 file, we got the following similar structures "
   ]
  },
  {
   "cell_type": "code",
   "execution_count": null,
   "id": "55c42979",
   "metadata": {},
   "outputs": [
    {
     "ename": "",
     "evalue": "",
     "output_type": "error",
     "traceback": [
      "\u001b[1;31mThe kernel failed to start as the Python Environment 'sdey (Python -1.-1.-1)' is no longer available. Consider selecting another kernel or refreshing the list of Python Environments."
     ]
    }
   ],
   "source": [
    "ids=['cifs/mp-1232268.cif',\n",
    " 'cifs/mp-1078247.cif',\n",
    " 'cifs/mp-1217360.cif',\n",
    " 'cifs/mp-1003311.cif',\n",
    " 'cifs/mp-1238847.cif']"
   ]
  }
 ],
 "metadata": {
  "kernelspec": {
   "display_name": "sdey",
   "language": "python",
   "name": "python3"
  },
  "language_info": {
   "name": "python",
   "version": "-1.-1.-1"
  }
 },
 "nbformat": 4,
 "nbformat_minor": 5
}
