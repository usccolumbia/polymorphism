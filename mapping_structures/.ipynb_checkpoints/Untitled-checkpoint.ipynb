{
 "cells": [
  {
   "cell_type": "code",
   "execution_count": null,
   "id": "0bd469b3-b0f4-4788-9e00-67343108c405",
   "metadata": {},
   "outputs": [],
   "source": [
    "from mp_api.client import MPRester\n",
    "\n",
    "API_KEY = \"YOUR_API_KEY_HERE\"  \n",
    "mpr = MPRester(API_KEY)\n",
    "\n",
    "mp_ids = ['cifs/mp-1232268.cif',\n",
    " 'cifs/mp-1078247.cif',\n",
    " 'cifs/mp-1217360.cif',\n",
    " 'cifs/mp-1003311.cif',\n",
    " 'cifs/mp-1238847.cif']\n",
    "thermo_docs = mpr.thermo.search(material_ids=mp_ids)\n",
    "\n",
    "for doc in thermo_docs:\n",
    "    print(f\"Formation energy per atom for {doc.material_id}: {doc.formation_energy_per_atom} eV/atom\")`"
   ]
  }
 ],
 "metadata": {
  "kernelspec": {
   "display_name": "Python [conda env:base] *",
   "language": "python",
   "name": "conda-base-py"
  },
  "language_info": {
   "codemirror_mode": {
    "name": "ipython",
    "version": 3
   },
   "file_extension": ".py",
   "mimetype": "text/x-python",
   "name": "python",
   "nbconvert_exporter": "python",
   "pygments_lexer": "ipython3",
   "version": "3.12.7"
  }
 },
 "nbformat": 4,
 "nbformat_minor": 5
}
